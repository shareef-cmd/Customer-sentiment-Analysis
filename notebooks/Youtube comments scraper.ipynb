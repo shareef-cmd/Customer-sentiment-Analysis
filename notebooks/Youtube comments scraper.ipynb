{
 "cells": [
  {
   "cell_type": "markdown",
   "id": "23bdebfb-2f84-436e-b5a6-f747d8367b1b",
   "metadata": {},
   "source": [
    "# YouTube Comment Scraping for Smartphone Comparison"
   ]
  },
  {
   "cell_type": "markdown",
   "id": "c567c96c-63fd-48dc-8118-ef704fdf4ffa",
   "metadata": {},
   "source": [
    "## Introduction\n",
    "As part of this project on customer sentiment analysis of modern smartphones—**iPhone 15, Samsung S24, and Google Pixel 7**—we begin by collecting user-generated feedback from YouTube. YouTube is a widely used platform where users actively share their opinions in the form of video comments. These comments serve as valuable data points for understanding public sentiment toward each device.\n",
    "\n",
    "To automate this process, a Python-based function was developed using the youtube-comment-downloader and langdetect libraries. The function takes a YouTube video URL and extracts up to 1000 English-language comments, filtering out non-English ones for better consistency in analysis. The collected comments are saved into CSV files for further sentiment analysis and comparison across the three smartphone models.\n",
    "\n",
    "This method ensures a structured and language-specific dataset, which forms the foundation for reliable opinion mining and visual sentiment insights.\n",
    "\n"
   ]
  },
  {
   "cell_type": "code",
   "execution_count": 1,
   "id": "054e25c4-1ac6-4170-bfb8-aaad03190cc8",
   "metadata": {},
   "outputs": [],
   "source": [
    "from youtube_comment_downloader import YoutubeCommentDownloader  # Import the comment downloader\n",
    "from langdetect import detect  # For detecting the language of the comment\n",
    "import pandas as pd  # For working with DataFrames and saving to CSV\n",
    "\n",
    "def scrape_english_youtube_comments(video_url, output_filename, max_comments=1000):\n",
    "    \"\"\"\n",
    "    Scrape English comments from a YouTube video and save them to a CSV file.\n",
    "    \n",
    "    Parameters:\n",
    "    - video_url: str : URL of the YouTube video\n",
    "    - output_filename: str : Filename to save the comments CSV\n",
    "    - max_comments: int : Max number of English comments to save (default is 1000)\n",
    "    \"\"\"\n",
    "    downloader = YoutubeCommentDownloader()  # Create an instance of the comment downloader\n",
    "    comments = downloader.get_comments_from_url(video_url)  # Get all comments from the given video URL\n",
    "\n",
    "    filtered_comments = []  # List to store only English comments\n",
    "\n",
    "    for comment in comments:\n",
    "        text = comment.get('text', '')  # Get the text of the comment (default to empty string if not found)\n",
    "        try:\n",
    "            lang = detect(text)  # Detect the language of the comment\n",
    "            if lang == 'en':  # If language is English\n",
    "                filtered_comments.append(text)  # Add to filtered list\n",
    "        except:\n",
    "            continue  # Skip comments that can't be processed (e.g., very short or symbols only)\n",
    "\n",
    "        if len(filtered_comments) >= max_comments:  # Stop if we've reached the desired count\n",
    "            break\n",
    "\n",
    "    # Save filtered comments to a CSV file\n",
    "    df = pd.DataFrame(filtered_comments, columns=[\"Comment\"])  # Create DataFrame with a single column\n",
    "    df.to_csv(output_filename, index=False)  # Save DataFrame to CSV without index\n",
    "    print(f\"✅ Saved {len(filtered_comments)} English comments to '{output_filename}'.\")  # Print completion message"
   ]
  },
  {
   "cell_type": "code",
   "execution_count": 3,
   "id": "53f37065-da80-445b-a1ce-a727e9179ac8",
   "metadata": {},
   "outputs": [
    {
     "name": "stdout",
     "output_type": "stream",
     "text": [
      "✅ Saved 1000 English comments to 'youtube_english_comments_iphone15.csv'.\n"
     ]
    }
   ],
   "source": [
    "# iPhone 15 video comments\n",
    "scrape_english_youtube_comments(\n",
    "    'https://www.youtube.com/watch?v=0X0Jm8QValY&t=6s',  # iPhone 15 video URL\n",
    "    'youtube_english_comments_iphone15.csv'  # Output filename\n",
    ")"
   ]
  },
  {
   "cell_type": "code",
   "execution_count": 5,
   "id": "1c3a0c6c-3bc4-44e4-a856-eb71723e2048",
   "metadata": {},
   "outputs": [
    {
     "name": "stdout",
     "output_type": "stream",
     "text": [
      "✅ Saved 429 English comments to 'youtube_english_comments_s24.csv'.\n"
     ]
    }
   ],
   "source": [
    "# Samsung S24 video comments\n",
    "scrape_english_youtube_comments(\n",
    "    'https://www.youtube.com/watch?v=uqHM3utsvfE',  # S24 video URL\n",
    "    'youtube_english_comments_s24.csv'  # Output filename\n",
    ")"
   ]
  },
  {
   "cell_type": "code",
   "execution_count": 7,
   "id": "3824f6ad-efef-4c10-9e56-daaeb55561f3",
   "metadata": {},
   "outputs": [
    {
     "name": "stdout",
     "output_type": "stream",
     "text": [
      "✅ Saved 376 English comments to 'youtube_english_comments_pixel7.csv'.\n"
     ]
    }
   ],
   "source": [
    "# Google Pixel 7 video comments\n",
    "scrape_english_youtube_comments(\n",
    "    'https://www.youtube.com/watch?v=TtoYxgRcWR8&t=1s',  # Replace with actual Pixel 7 video URL\n",
    "    'youtube_english_comments_pixel7.csv'  # Output filename\n",
    ")"
   ]
  }
 ],
 "metadata": {
  "kernelspec": {
   "display_name": "Python [conda env:base] *",
   "language": "python",
   "name": "conda-base-py"
  },
  "language_info": {
   "codemirror_mode": {
    "name": "ipython",
    "version": 3
   },
   "file_extension": ".py",
   "mimetype": "text/x-python",
   "name": "python",
   "nbconvert_exporter": "python",
   "pygments_lexer": "ipython3",
   "version": "3.12.7"
  }
 },
 "nbformat": 4,
 "nbformat_minor": 5
}
